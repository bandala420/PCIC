{
 "cells": [
  {
   "cell_type": "code",
   "execution_count": 1,
   "id": "74876a2a",
   "metadata": {},
   "outputs": [],
   "source": [
    "def g(L,a,b,end):\n",
    "    i = a\n",
    "    j = b\n",
    "    res = []\n",
    "    while i<b and j<end:\n",
    "        if L[i]<=L[j]:\n",
    "            res.append(L[i])\n",
    "            i += 1\n",
    "        else:\n",
    "            res.append(L[j])\n",
    "            j += 1\n",
    "    for i in range(i,b):\n",
    "        res.append(L[i])\n",
    "    for j in range(j,b):\n",
    "        res.append(L[j])\n",
    "    L[a:end] = res\n",
    "    return L"
   ]
  },
  {
   "cell_type": "code",
   "execution_count": 4,
   "id": "91a4c6f3",
   "metadata": {},
   "outputs": [],
   "source": [
    "def f(L):\n",
    "    ss = 1\n",
    "    n = len(L)\n",
    "    while ss<n:\n",
    "        for a in range(0,n,2*ss):\n",
    "            b = min(a+ss,n)\n",
    "            end = min(b+ss,n)\n",
    "            g(L,a,b,end)\n",
    "        ss += 2\n",
    "    return L"
   ]
  },
  {
   "cell_type": "code",
   "execution_count": 10,
   "id": "1ea71b32",
   "metadata": {
    "scrolled": true
   },
   "outputs": [
    {
     "data": {
      "text/plain": [
       "[0, 1, 2, -1]"
      ]
     },
     "execution_count": 10,
     "metadata": {},
     "output_type": "execute_result"
    }
   ],
   "source": [
    "f([2,1,0,-1])"
   ]
  },
  {
   "cell_type": "markdown",
   "id": "f515c63b",
   "metadata": {},
   "source": [
    "# Mergesort algorithm"
   ]
  },
  {
   "cell_type": "code",
   "execution_count": 13,
   "id": "605e3d23",
   "metadata": {},
   "outputs": [],
   "source": [
    "def mg(A,B):\n",
    "    i = j = 0\n",
    "    res = []\n",
    "    while i<len(A) and j<len(B):\n",
    "        if A[i] <= B[j]:\n",
    "            res.append(A[i])\n",
    "            i +=1\n",
    "        else:\n",
    "            res.append(B[j])\n",
    "            j +=1\n",
    "    for i in range(i,len(A)):\n",
    "        res.append(A[i])\n",
    "    for j in range(j,len(B)):\n",
    "        res.append(B[j])\n",
    "    return res"
   ]
  },
  {
   "cell_type": "code",
   "execution_count": 14,
   "id": "6180c0c1",
   "metadata": {},
   "outputs": [
    {
     "data": {
      "text/plain": [
       "[1, 2, 3, 3, 4, 5, 7, 9, 12]"
      ]
     },
     "execution_count": 14,
     "metadata": {},
     "output_type": "execute_result"
    }
   ],
   "source": [
    "mg([1,2,3,4,5],[3,7,9,12])"
   ]
  },
  {
   "cell_type": "code",
   "execution_count": null,
   "id": "0baecd6b",
   "metadata": {},
   "outputs": [],
   "source": []
  }
 ],
 "metadata": {
  "kernelspec": {
   "display_name": "Python 3",
   "language": "python",
   "name": "python3"
  },
  "language_info": {
   "codemirror_mode": {
    "name": "ipython",
    "version": 3
   },
   "file_extension": ".py",
   "mimetype": "text/x-python",
   "name": "python",
   "nbconvert_exporter": "python",
   "pygments_lexer": "ipython3",
   "version": "3.8.8"
  }
 },
 "nbformat": 4,
 "nbformat_minor": 5
}
